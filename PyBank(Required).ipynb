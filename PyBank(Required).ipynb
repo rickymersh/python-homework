{
 "cells": [
  {
   "cell_type": "code",
   "execution_count": 8,
   "id": "719fb5ca-243b-44af-9232-6f1748e91b34",
   "metadata": {},
   "outputs": [
    {
     "name": "stdout",
     "output_type": "stream",
     "text": [
      "\n",
      "Financial Analysis\n",
      "-------------------------\n",
      "Total Months: 86\n",
      "Total: $38382578\n",
      "Average Change: $-2315.12\n",
      "Greatest Increase in Profits: Feb-2012 ($1170593)\n",
      "Greatest Decrease in Profits: Sep-2013 ($-1196225)\n",
      "\n"
     ]
    }
   ],
   "source": [
    "#Import Libraries \n",
    "\n",
    "import csv\n",
    "import pandas as pd\n",
    "\n",
    "#Read CSV\n",
    "\n",
    "df = pd.read_csv('budget_data.csv')\n",
    "months = []\n",
    "profits_losses = []\n",
    "\n",
    "with open(csv_path, newline='') as csvfile:\n",
    "    csvreader = csv.reader(csvfile, delimiter=',')\n",
    "    next(csvreader)  # Skip the header row\n",
    "\n",
    "    for row in csvreader:\n",
    "        months.append(row[0])\n",
    "        profits_losses.append(int(row[1]))\n",
    "        \n",
    "#Calculations\n",
    "\n",
    "total_months = len(months)\n",
    "net_total = sum(profits_losses)\n",
    "average_change = sum(profits_losses[i+1] - profits_losses[i] for i in range(total_months - 1)) / (total_months - 1)\n",
    "greatest_increase = max(profits_losses)\n",
    "greatest_increase_date = months[profits_losses.index(greatest_increase)]\n",
    "greatest_decrease = min(profits_losses)\n",
    "greatest_decrease_date = months[profits_losses.index(greatest_decrease)]\n",
    "\n",
    "#Print Results\n",
    "\n",
    "analysis_results = f'''\n",
    "Financial Analysis\n",
    "-------------------------\n",
    "Total Months: {total_months}\n",
    "Total: ${net_total}\n",
    "Average Change: ${average_change:.2f}\n",
    "Greatest Increase in Profits: {greatest_increase_date} (${greatest_increase})\n",
    "Greatest Decrease in Profits: {greatest_decrease_date} (${greatest_decrease})\n",
    "'''\n",
    "\n",
    "print(analysis_results)\n"
   ]
  },
  {
   "cell_type": "code",
   "execution_count": null,
   "id": "44d52d84-54c6-4067-a2e6-89a8cc7b27c4",
   "metadata": {},
   "outputs": [],
   "source": []
  }
 ],
 "metadata": {
  "kernelspec": {
   "display_name": "Python 3 (ipykernel)",
   "language": "python",
   "name": "python3"
  },
  "language_info": {
   "codemirror_mode": {
    "name": "ipython",
    "version": 3
   },
   "file_extension": ".py",
   "mimetype": "text/x-python",
   "name": "python",
   "nbconvert_exporter": "python",
   "pygments_lexer": "ipython3",
   "version": "3.11.2"
  }
 },
 "nbformat": 4,
 "nbformat_minor": 5
}
